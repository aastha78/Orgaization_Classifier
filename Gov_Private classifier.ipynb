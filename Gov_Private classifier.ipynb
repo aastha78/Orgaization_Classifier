{
 "cells": [
  {
   "cell_type": "code",
   "execution_count": 1,
   "id": "01c5d084",
   "metadata": {},
   "outputs": [],
   "source": [
    "import pandas as pd\n",
    "import numpy as np\n",
    "from sklearn import preprocessing\n",
    "from sklearn.model_selection import train_test_split\n",
    "from sklearn.feature_extraction.text import TfidfTransformer"
   ]
  },
  {
   "cell_type": "code",
   "execution_count": 2,
   "id": "b227ab9a",
   "metadata": {},
   "outputs": [],
   "source": [
    "from sklearn.feature_extraction.text import TfidfVectorizer\n",
    "from sklearn.feature_selection import chi2\n",
    "from IPython.display import display\n",
    "from sklearn.naive_bayes import MultinomialNB\n",
    "from sklearn.linear_model import LogisticRegression\n",
    "from sklearn.ensemble import RandomForestClassifier\n",
    "from sklearn.svm import LinearSVC\n",
    "from sklearn.model_selection import cross_val_score\n",
    "from sklearn.metrics import confusion_matrix\n",
    "from sklearn import metrics\n",
    "from nltk.corpus import stopwords\n",
    "from nltk.stem import WordNetLemmatizer\n",
    "import re"
   ]
  },
  {
   "cell_type": "code",
   "execution_count": 22,
   "id": "1b0af7eb",
   "metadata": {},
   "outputs": [],
   "source": [
    "from sklearn.feature_extraction.text import CountVectorizer"
   ]
  },
  {
   "cell_type": "code",
   "execution_count": 74,
   "id": "97776602",
   "metadata": {},
   "outputs": [],
   "source": [
    "from sklearn.metrics import accuracy_score"
   ]
  },
  {
   "cell_type": "code",
   "execution_count": 3,
   "id": "61fa316f",
   "metadata": {},
   "outputs": [],
   "source": [
    "import gensim"
   ]
  },
  {
   "cell_type": "code",
   "execution_count": 4,
   "id": "cef32ade",
   "metadata": {},
   "outputs": [],
   "source": [
    "df = pd.read_csv('gov_priv_data.csv',encoding = \"ISO-8859-1\", error_bad_lines=False)"
   ]
  },
  {
   "cell_type": "code",
   "execution_count": 52,
   "id": "89df9da8",
   "metadata": {},
   "outputs": [
    {
     "data": {
      "text/html": [
       "<div>\n",
       "<style scoped>\n",
       "    .dataframe tbody tr th:only-of-type {\n",
       "        vertical-align: middle;\n",
       "    }\n",
       "\n",
       "    .dataframe tbody tr th {\n",
       "        vertical-align: top;\n",
       "    }\n",
       "\n",
       "    .dataframe thead th {\n",
       "        text-align: right;\n",
       "    }\n",
       "</style>\n",
       "<table border=\"1\" class=\"dataframe\">\n",
       "  <thead>\n",
       "    <tr style=\"text-align: right;\">\n",
       "      <th></th>\n",
       "      <th>Orgs</th>\n",
       "      <th>Unnamed: 1</th>\n",
       "      <th>label</th>\n",
       "    </tr>\n",
       "  </thead>\n",
       "  <tbody>\n",
       "    <tr>\n",
       "      <th>1995</th>\n",
       "      <td>petroleum planning and analysis cell</td>\n",
       "      <td>Petroleum Planning and Analysis Cell</td>\n",
       "      <td>0</td>\n",
       "    </tr>\n",
       "    <tr>\n",
       "      <th>1450</th>\n",
       "      <td>landmark pr.dev.co.ltd</td>\n",
       "      <td>LANDMARK PR.DEV.CO.LTD</td>\n",
       "      <td>1</td>\n",
       "    </tr>\n",
       "    <tr>\n",
       "      <th>1445</th>\n",
       "      <td>technology information, forecasting and assess...</td>\n",
       "      <td>Technology Information, Forecasting and Assess...</td>\n",
       "      <td>0</td>\n",
       "    </tr>\n",
       "    <tr>\n",
       "      <th>2103</th>\n",
       "      <td>intellectual property appellate board</td>\n",
       "      <td>Intellectual Property Appellate Board</td>\n",
       "      <td>0</td>\n",
       "    </tr>\n",
       "    <tr>\n",
       "      <th>1523</th>\n",
       "      <td>ministry of external affair</td>\n",
       "      <td>Ministry of External Affair</td>\n",
       "      <td>0</td>\n",
       "    </tr>\n",
       "  </tbody>\n",
       "</table>\n",
       "</div>"
      ],
      "text/plain": [
       "                                                   Orgs  \\\n",
       "1995               petroleum planning and analysis cell   \n",
       "1450                          landmark pr.dev.co.ltd      \n",
       "1445  technology information, forecasting and assess...   \n",
       "2103              intellectual property appellate board   \n",
       "1523                        ministry of external affair   \n",
       "\n",
       "                                             Unnamed: 1  label  \n",
       "1995               Petroleum Planning and Analysis Cell      0  \n",
       "1450                          LANDMARK PR.DEV.CO.LTD         1  \n",
       "1445  Technology Information, Forecasting and Assess...      0  \n",
       "2103              Intellectual Property Appellate Board      0  \n",
       "1523                        Ministry of External Affair      0  "
      ]
     },
     "execution_count": 52,
     "metadata": {},
     "output_type": "execute_result"
    }
   ],
   "source": [
    "df.head()"
   ]
  },
  {
   "cell_type": "code",
   "execution_count": 53,
   "id": "333e8fa6",
   "metadata": {},
   "outputs": [
    {
     "data": {
      "text/plain": [
       "Orgs          4\n",
       "Unnamed: 1    4\n",
       "label         0\n",
       "dtype: int64"
      ]
     },
     "execution_count": 53,
     "metadata": {},
     "output_type": "execute_result"
    }
   ],
   "source": [
    "df.isnull().sum()"
   ]
  },
  {
   "cell_type": "code",
   "execution_count": 54,
   "id": "87d138c6",
   "metadata": {},
   "outputs": [],
   "source": [
    "df = df.sample(frac = 1)"
   ]
  },
  {
   "cell_type": "code",
   "execution_count": 55,
   "id": "d791d3f4",
   "metadata": {},
   "outputs": [],
   "source": [
    "X =df['Orgs']\n",
    "y = df['label']"
   ]
  },
  {
   "cell_type": "code",
   "execution_count": 56,
   "id": "869fd91a",
   "metadata": {},
   "outputs": [
    {
     "data": {
      "text/plain": [
       "4"
      ]
     },
     "execution_count": 56,
     "metadata": {},
     "output_type": "execute_result"
    }
   ],
   "source": [
    "X.isnull().sum()"
   ]
  },
  {
   "cell_type": "code",
   "execution_count": 57,
   "id": "f1fcb41f",
   "metadata": {},
   "outputs": [
    {
     "data": {
      "text/plain": [
       "2                               dalmia bharat sug in ltd \n",
       "905                             minda industries ltd.    \n",
       "1117                            poddar house & dvpt ltd  \n",
       "1153                            tantia const ltd         \n",
       "24        directorate general of income tax investigation\n",
       "                              ...                        \n",
       "1769    andaman & nicobar islands forest and plantatio...\n",
       "392                             eastern silk industries l\n",
       "2079                             commissioner of payments\n",
       "10                              mukand ltd.              \n",
       "1617                     ministry of science & technology\n",
       "Name: Orgs, Length: 2532, dtype: object"
      ]
     },
     "execution_count": 57,
     "metadata": {},
     "output_type": "execute_result"
    }
   ],
   "source": [
    "X.dropna()"
   ]
  },
  {
   "cell_type": "code",
   "execution_count": 58,
   "id": "b9754870",
   "metadata": {},
   "outputs": [
    {
     "data": {
      "text/plain": [
       "2                               dalmia bharat sug in ltd \n",
       "905                             minda industries ltd.    \n",
       "1117                            poddar house & dvpt ltd  \n",
       "1153                            tantia const ltd         \n",
       "24        directorate general of income tax investigation\n",
       "                              ...                        \n",
       "1769    andaman & nicobar islands forest and plantatio...\n",
       "392                             eastern silk industries l\n",
       "2079                             commissioner of payments\n",
       "10                              mukand ltd.              \n",
       "1617                     ministry of science & technology\n",
       "Name: Orgs, Length: 2536, dtype: object"
      ]
     },
     "execution_count": 58,
     "metadata": {},
     "output_type": "execute_result"
    }
   ],
   "source": [
    "X.fillna('').astype(str)"
   ]
  },
  {
   "cell_type": "code",
   "execution_count": 59,
   "id": "50c47c81",
   "metadata": {},
   "outputs": [],
   "source": [
    "X = X.astype(str)"
   ]
  },
  {
   "cell_type": "code",
   "execution_count": 60,
   "id": "f6890b4a",
   "metadata": {},
   "outputs": [],
   "source": [
    "# X = X.apply(gensim.utils.simple_preprocess)"
   ]
  },
  {
   "cell_type": "code",
   "execution_count": 61,
   "id": "64bbbda2",
   "metadata": {},
   "outputs": [],
   "source": [
    "cv = CountVectorizer()"
   ]
  },
  {
   "cell_type": "code",
   "execution_count": 62,
   "id": "6086e0cc",
   "metadata": {},
   "outputs": [],
   "source": [
    "bow_transformer = CountVectorizer().fit(X) "
   ]
  },
  {
   "cell_type": "code",
   "execution_count": 65,
   "id": "c328a008",
   "metadata": {},
   "outputs": [],
   "source": [
    "article_bow = bow_transformer.transform(X)"
   ]
  },
  {
   "cell_type": "code",
   "execution_count": 66,
   "id": "dfb4fd35",
   "metadata": {},
   "outputs": [
    {
     "data": {
      "text/plain": [
       "array([[0, 0, 0, ..., 0, 0, 0],\n",
       "       [0, 0, 0, ..., 0, 0, 0],\n",
       "       [0, 0, 0, ..., 0, 0, 0],\n",
       "       ...,\n",
       "       [0, 0, 0, ..., 0, 0, 0],\n",
       "       [0, 0, 0, ..., 0, 0, 0],\n",
       "       [0, 0, 0, ..., 0, 0, 0]], dtype=int64)"
      ]
     },
     "execution_count": 66,
     "metadata": {},
     "output_type": "execute_result"
    }
   ],
   "source": [
    "X = article_bow.toarray()\n",
    "X"
   ]
  },
  {
   "cell_type": "code",
   "execution_count": 67,
   "id": "538f862b",
   "metadata": {},
   "outputs": [
    {
     "name": "stdout",
     "output_type": "stream",
     "text": [
      "TfidfTransformer()\n",
      "  (0, 2793)\t0.5306607298305601\n",
      "  (0, 1687)\t0.13871897201367023\n",
      "  (0, 1345)\t0.41971105357367133\n",
      "  (0, 702)\t0.5800171595167318\n",
      "  (0, 335)\t0.4319478704582171\n",
      "  (1, 1817)\t0.8580119403025045\n",
      "  (1, 1687)\t0.21595483325965711\n",
      "  (1, 1370)\t0.46602469922754636\n",
      "  (2, 2249)\t0.5681534883023673\n",
      "  (2, 1687)\t0.1429997486852831\n",
      "  (2, 1276)\t0.5470365725853339\n",
      "  (2, 820)\t0.5979161093831545\n",
      "  (3, 2854)\t0.7441898469561256\n",
      "  (3, 1687)\t0.17798309732556514\n",
      "  (3, 608)\t0.6438194535378817\n",
      "  (4, 2861)\t0.45542772379508234\n",
      "  (4, 2080)\t0.21650684782586518\n",
      "  (4, 1440)\t0.45542772379508234\n",
      "  (4, 1349)\t0.48554833515003765\n",
      "  (4, 1088)\t0.4064546285077342\n",
      "  (4, 780)\t0.3705852274981214\n",
      "  (5, 2666)\t0.8580119403025045\n",
      "  (5, 1687)\t0.21595483325965711\n",
      "  (5, 1370)\t0.46602469922754636\n",
      "  (6, 2437)\t0.4931614712254223\n",
      "  :\t:\n",
      "  (2530, 439)\t0.4644435832389007\n",
      "  (2530, 149)\t0.20631213946524263\n",
      "  (2530, 123)\t0.44132485777822844\n",
      "  (2531, 2588)\t0.2781700543984092\n",
      "  (2531, 2341)\t0.2668641598912899\n",
      "  (2531, 2236)\t0.3775169562166865\n",
      "  (2531, 2000)\t0.39729311591786526\n",
      "  (2531, 1459)\t0.39729311591786526\n",
      "  (2531, 1033)\t0.2929135050116145\n",
      "  (2531, 748)\t0.2443624860896746\n",
      "  (2531, 640)\t0.24228668298174807\n",
      "  (2531, 150)\t0.39729311591786526\n",
      "  (2531, 149)\t0.1764829910410572\n",
      "  (2532, 2657)\t0.6628603768405281\n",
      "  (2532, 1370)\t0.3954419426486532\n",
      "  (2532, 832)\t0.635800118597891\n",
      "  (2533, 2173)\t0.7363937263636344\n",
      "  (2533, 2080)\t0.26348072827192615\n",
      "  (2533, 580)\t0.6231389777582335\n",
      "  (2534, 1877)\t0.9697551697406959\n",
      "  (2534, 1687)\t0.24407972214256976\n",
      "  (2535, 2882)\t0.5412913816004215\n",
      "  (2535, 2572)\t0.60501349292388\n",
      "  (2535, 2080)\t0.2936131347932445\n",
      "  (2535, 1824)\t0.5047312558798368\n",
      "(2536, 3200)\n"
     ]
    }
   ],
   "source": [
    "tfidf_transformer=TfidfTransformer().fit(article_bow)\n",
    "print(tfidf_transformer)\n",
    "\n",
    "article_tfidf=tfidf_transformer.transform(article_bow)\n",
    "print(article_tfidf)\n",
    "print(article_tfidf.shape)"
   ]
  },
  {
   "cell_type": "code",
   "execution_count": 69,
   "id": "b6d702b1",
   "metadata": {},
   "outputs": [],
   "source": [
    "X = article_tfidf"
   ]
  },
  {
   "cell_type": "code",
   "execution_count": 70,
   "id": "a6ce46a7",
   "metadata": {},
   "outputs": [],
   "source": [
    "x_train,x_test,y_train,y_test = train_test_split(X,y,test_size=0.3,random_state=0)"
   ]
  },
  {
   "cell_type": "code",
   "execution_count": 71,
   "id": "29050eab",
   "metadata": {},
   "outputs": [
    {
     "data": {
      "text/plain": [
       "MultinomialNB()"
      ]
     },
     "execution_count": 71,
     "metadata": {},
     "output_type": "execute_result"
    }
   ],
   "source": [
    "model = MultinomialNB()\n",
    "model.fit(x_train,y_train)"
   ]
  },
  {
   "cell_type": "code",
   "execution_count": 72,
   "id": "8bcf9248",
   "metadata": {},
   "outputs": [],
   "source": [
    "y_pred = model.predict(x_test)"
   ]
  },
  {
   "cell_type": "code",
   "execution_count": 75,
   "id": "babd3525",
   "metadata": {},
   "outputs": [
    {
     "name": "stdout",
     "output_type": "stream",
     "text": [
      "0.973718791064389\n"
     ]
    }
   ],
   "source": [
    "print(accuracy_score(y_test, y_pred))"
   ]
  },
  {
   "cell_type": "code",
   "execution_count": 76,
   "id": "79101184",
   "metadata": {},
   "outputs": [],
   "source": [
    "import pickle"
   ]
  },
  {
   "cell_type": "code",
   "execution_count": 77,
   "id": "2f13e1c4",
   "metadata": {},
   "outputs": [],
   "source": [
    "pickle.dump(model, open('gp_model.sav', 'wb'))"
   ]
  },
  {
   "cell_type": "code",
   "execution_count": null,
   "id": "2ea085e2",
   "metadata": {},
   "outputs": [],
   "source": []
  }
 ],
 "metadata": {
  "kernelspec": {
   "display_name": "Python 3",
   "language": "python",
   "name": "python3"
  },
  "language_info": {
   "codemirror_mode": {
    "name": "ipython",
    "version": 3
   },
   "file_extension": ".py",
   "mimetype": "text/x-python",
   "name": "python",
   "nbconvert_exporter": "python",
   "pygments_lexer": "ipython3",
   "version": "3.8.8"
  }
 },
 "nbformat": 4,
 "nbformat_minor": 5
}
